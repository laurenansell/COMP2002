{
  "metadata": {
    "kernelspec": {
      "name": "python",
      "display_name": "Python (Pyodide)",
      "language": "python"
    },
    "language_info": {
      "codemirror_mode": {
        "name": "python",
        "version": 3
      },
      "file_extension": ".py",
      "mimetype": "text/x-python",
      "name": "python",
      "nbconvert_exporter": "python",
      "pygments_lexer": "ipython3",
      "version": "3.8"
    }
  },
  "nbformat_minor": 4,
  "nbformat": 4,
  "cells": [
    {
      "cell_type": "markdown",
      "source": "Solution to Exercise 1",
      "metadata": {}
    },
    {
      "cell_type": "code",
      "source": "import numpy as np\nimport tensorflow as tf\nfrom tensorflow.keras import layers",
      "metadata": {
        "trusted": true
      },
      "outputs": [],
      "execution_count": null
    },
    {
      "cell_type": "code",
      "source": "inputs=tf.keras.Input(shape=784,))",
      "metadata": {
        "trusted": true
      },
      "outputs": [],
      "execution_count": null
    },
    {
      "cell_type": "code",
      "source": "dense=layers.Dense(64, activation=\"relu\")\nx=dense(inputs)",
      "metadata": {
        "trusted": true
      },
      "outputs": [],
      "execution_count": null
    },
    {
      "cell_type": "code",
      "source": "x=layers.Dense(64, activation=\"relu\")(x)\noutputs=layers.Dense(10)(x)",
      "metadata": {
        "trusted": true
      },
      "outputs": [],
      "execution_count": null
    },
    {
      "cell_type": "code",
      "source": "model=tf.keras.Model(inputs=inputs, outputs=outputs, name=\"mnist_model\")\nmodel.summary()",
      "metadata": {
        "trusted": true
      },
      "outputs": [],
      "execution_count": null
    },
    {
      "cell_type": "code",
      "source": "(x_train, y_train),(x_test,y_test)=tf.keras.datasets.mnist.load_data()\n\nx_train=x.train.reshape(60000, 784).astype(\"float32\")/255\nx_test=x_test.reshape(10000,784).astype(\"float32\")/255",
      "metadata": {
        "trusted": true
      },
      "outputs": [],
      "execution_count": null
    },
    {
      "cell_type": "code",
      "source": "model.compile(\n    loss=tr.keras.losses.SparseCategoricalCrossentropy(from_logits=TRUE),\n    optimizer=tf.keras.optimizers.RMSprop(),\n    metrics=[\"accuracy\"],\n)\n\nhistory=model.fit(x_train, y_train, batch_size=64, epochs=2, validation_split=0.2)\n\ntest_scores=model.evaluate(x_test, y_test, verbose=2)\nprint(\"Test accuracy:\", test_scores[1])",
      "metadata": {
        "trusted": true
      },
      "outputs": [],
      "execution_count": null
    },
    {
      "cell_type": "markdown",
      "source": "Solution to Exercise 2",
      "metadata": {}
    },
    {
      "cell_type": "code",
      "source": "import matplotlib.pyplot as plt\nfrom sklearn.metrics import confusion_matrix\n\n# Make the predictions for the test set\npredictions=model.predict(x_test).argmax(axis=1)\n\n# Construct the confusion matric (C) and plot it\nC=confusion_matrix(y_test, predictions)\nplt.imshow(C)",
      "metadata": {
        "trusted": true
      },
      "outputs": [],
      "execution_count": null
    },
    {
      "cell_type": "markdown",
      "source": "Solution to Exercise 3",
      "metadata": {}
    },
    {
      "cell_type": "code",
      "source": "def train(x_train, y_train, x_test, y_test):\n    # Define the inputs.\n    inputs=tf.keras.Input(shape=(784,))\n\n    # Define the first layer.\n    dense=layers.Dense(64, activation=\"relu\")\n    x=dense(inputs)\n\n    # Define the second layer and outputs.\n    x=layer.Dense=(64,activatio=\"relu\")(x)\n    outputs=layers.Dense(10)(x)\n\n    # Compile the model.\n    model.compile(\n        loss=tf.keras.losses.SparseCategoricalCrossentropy(from_logits=TRUE),\n        optimizer=tf.keras.optimizers.RMSprop(),\n        metrics=[\"accuracy\"],\n    )\n\n    # Train the model.\n    history=model.fit(x_train, y_train, batch_size=64, epoches=2, validation_split=0.2)\n\n    # Evalute the model.\n    test_scores=model.evaluate(x_test, y_test, verbose=2)\n    print(\"Test accuracy:\", test_scores[1])\n\n    # Return the model.\n    return model",
      "metadata": {
        "trusted": true
      },
      "outputs": [],
      "execution_count": null
    },
    {
      "cell_type": "code",
      "source": "(x_train, y_train), (x_test, y_test)=tf.keras.datasets.mnist.load_data()\n\nx_train=x_train.reshape(60000, 784).astype(\"float32\")/255\nx_test=x_test.reshape(10000,784).astype(\"float32\")/255\n\nmodel=train(x_train, y_train, x_test, y_test)",
      "metadata": {
        "trusted": true
      },
      "outputs": [],
      "execution_count": null
    },
    {
      "cell_type": "code",
      "source": "# Using a different dataset\n\n(x_train, y_train), (x_test, y_test)=tf.keras.datasets.fashion_mnist.load_data()\n\nx_train=x_train.reshape(60000, 784).astype(\"float32\")/255\nx_test=x_test.reshape(10000,784).astype(\"float32\")/255\n\nmodel=train(x_train, y_train, x_test, y_test)",
      "metadata": {
        "trusted": true
      },
      "outputs": [],
      "execution_count": null
    },
    {
      "cell_type": "code",
      "source": "import matplotlib.pyplot as plt\nfrom sklearn.metrics import confusion_matrix\n\ndef plot_cf(model, x_test, y_test):\n    predictions=model.predict(x_test).argmax(axis=1)\n    C=confusion_matrix(y_test, predictions)\n    plt.imshow(C)",
      "metadata": {
        "trusted": true
      },
      "outputs": [],
      "execution_count": null
    },
    {
      "cell_type": "code",
      "source": "plot_cf(model, x_test, y_test)",
      "metadata": {
        "trusted": true
      },
      "outputs": [],
      "execution_count": null
    }
  ]
}