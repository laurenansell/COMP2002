{
 "cells": [
  {
   "cell_type": "markdown",
   "metadata": {},
   "source": [
    "Solution to Exercise 1"
   ]
  },
  {
   "cell_type": "code",
   "execution_count": 4,
   "metadata": {},
   "outputs": [],
   "source": [
    "import numpy as np\n",
    "import tensorflow as tf\n",
    "from tensorflow.keras import layers"
   ]
  },
  {
   "cell_type": "code",
   "execution_count": 8,
   "metadata": {},
   "outputs": [],
   "source": [
    "inputs=tf.keras.Input(shape=(784,))"
   ]
  },
  {
   "cell_type": "code",
   "execution_count": 9,
   "metadata": {},
   "outputs": [],
   "source": [
    "dense=layers.Dense(64, activation=\"relu\")\n",
    "x=dense(inputs)"
   ]
  },
  {
   "cell_type": "code",
   "execution_count": null,
   "metadata": {},
   "outputs": [],
   "source": [
    "x=layers.Dense(64, activation=\"relu\")(x)\n",
    "outputs=layers.Dense(10)(x)"
   ]
  },
  {
   "cell_type": "code",
   "execution_count": null,
   "metadata": {},
   "outputs": [],
   "source": [
    "model=tf.keras.Model(inputs=inputs, outputs=outputs, name=\"mnist_model\")\n",
    "model.summary()"
   ]
  },
  {
   "cell_type": "code",
   "execution_count": null,
   "metadata": {},
   "outputs": [],
   "source": [
    "(x_train, y_train),(x_test,y_test)=tf.keras.datasets.mnist.load_data()\n",
    "\n",
    "x_train=x.train.reshape(60000, 784).astype(\"float32\")/255\n",
    "x_test=x_test.reshape(10000,784).astype(\"float32\")/255"
   ]
  },
  {
   "cell_type": "code",
   "execution_count": null,
   "metadata": {},
   "outputs": [],
   "source": [
    "model.compile(\n",
    "    loss=tr.keras.losses.SparseCategoricalCrossentropy(from_logits=TRUE),\n",
    "    optimizer=tf.keras.optimizers.RMSprop(),\n",
    "    metrics=[\"accuracy\"],\n",
    ")\n",
    "\n",
    "history=model.fit(x_train, y_train, batch_size=64, epochs=2, validation_split=0.2)\n",
    "\n",
    "test_scores=model.evaluate(x_test, y_test, verbose=2)\n",
    "print(\"Test accuracy:\", test_scores[1])"
   ]
  },
  {
   "cell_type": "markdown",
   "metadata": {},
   "source": [
    "Solution to Exercise 2"
   ]
  },
  {
   "cell_type": "code",
   "execution_count": null,
   "metadata": {},
   "outputs": [],
   "source": [
    "import matplotlib.pyplot as plt\n",
    "from sklearn.metrics import confusion_matrix\n",
    "\n",
    "# Make the predictions for the test set\n",
    "predictions=model.predict(x_test).argmax(axis=1)\n",
    "\n",
    "# Construct the confusion matric (C) and plot it\n",
    "C=confusion_matrix(y_test, predictions)\n",
    "plt.imshow(C)"
   ]
  },
  {
   "cell_type": "markdown",
   "metadata": {},
   "source": [
    "Solution to Exercise 3"
   ]
  },
  {
   "cell_type": "code",
   "execution_count": null,
   "metadata": {},
   "outputs": [],
   "source": [
    "def train(x_train, y_train, x_test, y_test):\n",
    "    # Define the inputs.\n",
    "    inputs=tf.keras.Input(shape=(784,))\n",
    "\n",
    "    # Define the first layer.\n",
    "    dense=layers.Dense(64, activation=\"relu\")\n",
    "    x=dense(inputs)\n",
    "\n",
    "    # Define the second layer and outputs.\n",
    "    x=layer.Dense=(64,activatio=\"relu\")(x)\n",
    "    outputs=layers.Dense(10)(x)\n",
    "\n",
    "    # Compile the model.\n",
    "    model.compile(\n",
    "        loss=tf.keras.losses.SparseCategoricalCrossentropy(from_logits=TRUE),\n",
    "        optimizer=tf.keras.optimizers.RMSprop(),\n",
    "        metrics=[\"accuracy\"],\n",
    "    )\n",
    "\n",
    "    # Train the model.\n",
    "    history=model.fit(x_train, y_train, batch_size=64, epoches=2, validation_split=0.2)\n",
    "\n",
    "    # Evalute the model.\n",
    "    test_scores=model.evaluate(x_test, y_test, verbose=2)\n",
    "    print(\"Test accuracy:\", test_scores[1])\n",
    "\n",
    "    # Return the model.\n",
    "    return model"
   ]
  },
  {
   "cell_type": "code",
   "execution_count": null,
   "metadata": {},
   "outputs": [],
   "source": [
    "(x_train, y_train), (x_test, y_test)=tf.keras.datasets.mnist.load_data()\n",
    "\n",
    "x_train=x_train.reshape(60000, 784).astype(\"float32\")/255\n",
    "x_test=x_test.reshape(10000,784).astype(\"float32\")/255\n",
    "\n",
    "model=train(x_train, y_train, x_test, y_test)"
   ]
  },
  {
   "cell_type": "code",
   "execution_count": null,
   "metadata": {},
   "outputs": [],
   "source": [
    "# Using a different dataset\n",
    "\n",
    "(x_train, y_train), (x_test, y_test)=tf.keras.datasets.fashion_mnist.load_data()\n",
    "\n",
    "x_train=x_train.reshape(60000, 784).astype(\"float32\")/255\n",
    "x_test=x_test.reshape(10000,784).astype(\"float32\")/255\n",
    "\n",
    "model=train(x_train, y_train, x_test, y_test)"
   ]
  },
  {
   "cell_type": "code",
   "execution_count": null,
   "metadata": {},
   "outputs": [],
   "source": [
    "import matplotlib.pyplot as plt\n",
    "from sklearn.metrics import confusion_matrix\n",
    "\n",
    "def plot_cf(model, x_test, y_test):\n",
    "    predictions=model.predict(x_test).argmax(axis=1)\n",
    "    C=confusion_matrix(y_test, predictions)\n",
    "    plt.imshow(C)"
   ]
  },
  {
   "cell_type": "code",
   "execution_count": null,
   "metadata": {},
   "outputs": [],
   "source": [
    "plot_cf(model, x_test, y_test)"
   ]
  }
 ],
 "metadata": {
  "kernelspec": {
   "display_name": "Python 3 (ipykernel)",
   "language": "python",
   "name": "python3"
  },
  "language_info": {
   "codemirror_mode": {
    "name": "ipython",
    "version": 3
   },
   "file_extension": ".py",
   "mimetype": "text/x-python",
   "name": "python",
   "nbconvert_exporter": "python",
   "pygments_lexer": "ipython3",
   "version": "3.12.4"
  }
 },
 "nbformat": 4,
 "nbformat_minor": 4
}
